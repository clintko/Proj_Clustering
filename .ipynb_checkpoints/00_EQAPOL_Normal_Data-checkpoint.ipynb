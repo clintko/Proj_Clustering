{
 "cells": [
  {
   "cell_type": "markdown",
   "metadata": {},
   "source": [
    "# Set environment"
   ]
  },
  {
   "cell_type": "code",
   "execution_count": 53,
   "metadata": {},
   "outputs": [],
   "source": [
    "library(tidyverse)"
   ]
  },
  {
   "cell_type": "code",
   "execution_count": 54,
   "metadata": {},
   "outputs": [],
   "source": [
    "library(foreach)"
   ]
  },
  {
   "cell_type": "markdown",
   "metadata": {},
   "source": [
    "# Import data"
   ]
  },
  {
   "cell_type": "code",
   "execution_count": 55,
   "metadata": {},
   "outputs": [],
   "source": [
    "OUTDIR  = \"/data/clintko/flow_EQAPOL\"\n",
    "DATADIR = \"/data/flow/EQAPOL_normal\""
   ]
  },
  {
   "cell_type": "code",
   "execution_count": 56,
   "metadata": {},
   "outputs": [
    {
     "name": "stdout",
     "output_type": "stream",
     "text": [
      " [1] \"AMJ_5L_CMV_pp65.txt\"      \"AMJ_5L_Costim.txt\"       \n",
      " [3] \"AMJ_5L_SEB.txt\"           \"B6901GFJ-08_CMV_pp65.txt\"\n",
      " [5] \"B6901GFJ-08_Costim.txt\"   \"B6901GFJ-08_SEB.txt\"     \n",
      " [7] \"E6901F0T-07_CMV_pp65.txt\" \"E6901F0T-07_Costim.txt\"  \n",
      " [9] \"E6901F0T-07_SEB.txt\"      \"E6901FYZ-01_CMV_pp65.txt\"\n",
      "[11] \"E6901FYZ-01_Costim.txt\"   \"E6901FYZ-01_SEB.txt\"     \n",
      "[13] \"F69018CN-01_CMV_pp65.txt\" \"F69018CN-01_Costim.txt\"  \n",
      "[15] \"F69018CN-01_SEB.txt\"      \"F6901DJK-01_CMV_pp65.txt\"\n",
      "[17] \"F6901DJK-01_Costim.txt\"   \"F6901DJK-01_SEB.txt\"     \n",
      "[19] \"G6901B3H-01_CMV_pp65.txt\" \"G6901B3H-01_Costim.txt\"  \n",
      "[21] \"G6901B3H-01_SEB.txt\"      \"J6901CDB-01_CMV_pp65.txt\"\n",
      "[23] \"J6901CDB-01_Costim.txt\"   \"J6901CDB-01_SEB.txt\"     \n",
      "[25] \"J6901HJ1-06_CMV_pp65.txt\" \"J6901HJ1-06_Costim.txt\"  \n",
      "[27] \"J6901HJ1-06_SEB.txt\"      \"K690194C-01_CMV_pp65.txt\"\n",
      "[29] \"K690194C-01_Costim.txt\"   \"K690194C-01_SEB.txt\"     \n",
      "[31] \"K6901DKW-01_CMV_pp65.txt\" \"K6901DKW-01_Costim.txt\"  \n",
      "[33] \"K6901DKW-01_SEB.txt\"     \n"
     ]
    }
   ],
   "source": [
    "files = system(\"ls /data/flow/EQAPOL_normal | grep txt | grep -v markers\", intern = TRUE)\n",
    "print(files)"
   ]
  },
  {
   "cell_type": "code",
   "execution_count": 57,
   "metadata": {},
   "outputs": [],
   "source": [
    "tmp = files\n",
    "tmp[grepl(\"Costim\", tmp)] = \"Costim\" # negative control\n",
    "tmp[grepl(\"CMV\",    tmp)] = \"CMV\"    # CMB peptide stimulation\n",
    "tmp[grepl(\"SEB\",    tmp)] = \"SEB\"    # positive control\n",
    "\n",
    "dat_pheno = data.frame(file_name = files, trt = tmp)"
   ]
  },
  {
   "cell_type": "code",
   "execution_count": 58,
   "metadata": {},
   "outputs": [
    {
     "data": {
      "text/html": [
       "<table>\n",
       "<thead><tr><th scope=col>file_name</th><th scope=col>trt</th></tr></thead>\n",
       "<tbody>\n",
       "\t<tr><td>AMJ_5L_CMV_pp65.txt     </td><td>CMV                     </td></tr>\n",
       "\t<tr><td>AMJ_5L_Costim.txt       </td><td>Costim                  </td></tr>\n",
       "\t<tr><td>AMJ_5L_SEB.txt          </td><td>SEB                     </td></tr>\n",
       "\t<tr><td>B6901GFJ-08_CMV_pp65.txt</td><td>CMV                     </td></tr>\n",
       "\t<tr><td>B6901GFJ-08_Costim.txt  </td><td>Costim                  </td></tr>\n",
       "\t<tr><td>B6901GFJ-08_SEB.txt     </td><td>SEB                     </td></tr>\n",
       "\t<tr><td>E6901F0T-07_CMV_pp65.txt</td><td>CMV                     </td></tr>\n",
       "\t<tr><td>E6901F0T-07_Costim.txt  </td><td>Costim                  </td></tr>\n",
       "\t<tr><td>E6901F0T-07_SEB.txt     </td><td>SEB                     </td></tr>\n",
       "\t<tr><td>E6901FYZ-01_CMV_pp65.txt</td><td>CMV                     </td></tr>\n",
       "\t<tr><td>E6901FYZ-01_Costim.txt  </td><td>Costim                  </td></tr>\n",
       "\t<tr><td>E6901FYZ-01_SEB.txt     </td><td>SEB                     </td></tr>\n",
       "\t<tr><td>F69018CN-01_CMV_pp65.txt</td><td>CMV                     </td></tr>\n",
       "\t<tr><td>F69018CN-01_Costim.txt  </td><td>Costim                  </td></tr>\n",
       "\t<tr><td>F69018CN-01_SEB.txt     </td><td>SEB                     </td></tr>\n",
       "\t<tr><td>F6901DJK-01_CMV_pp65.txt</td><td>CMV                     </td></tr>\n",
       "\t<tr><td>F6901DJK-01_Costim.txt  </td><td>Costim                  </td></tr>\n",
       "\t<tr><td>F6901DJK-01_SEB.txt     </td><td>SEB                     </td></tr>\n",
       "\t<tr><td>G6901B3H-01_CMV_pp65.txt</td><td>CMV                     </td></tr>\n",
       "\t<tr><td>G6901B3H-01_Costim.txt  </td><td>Costim                  </td></tr>\n",
       "\t<tr><td>G6901B3H-01_SEB.txt     </td><td>SEB                     </td></tr>\n",
       "\t<tr><td>J6901CDB-01_CMV_pp65.txt</td><td>CMV                     </td></tr>\n",
       "\t<tr><td>J6901CDB-01_Costim.txt  </td><td>Costim                  </td></tr>\n",
       "\t<tr><td>J6901CDB-01_SEB.txt     </td><td>SEB                     </td></tr>\n",
       "\t<tr><td>J6901HJ1-06_CMV_pp65.txt</td><td>CMV                     </td></tr>\n",
       "\t<tr><td>J6901HJ1-06_Costim.txt  </td><td>Costim                  </td></tr>\n",
       "\t<tr><td>J6901HJ1-06_SEB.txt     </td><td>SEB                     </td></tr>\n",
       "\t<tr><td>K690194C-01_CMV_pp65.txt</td><td>CMV                     </td></tr>\n",
       "\t<tr><td>K690194C-01_Costim.txt  </td><td>Costim                  </td></tr>\n",
       "\t<tr><td>K690194C-01_SEB.txt     </td><td>SEB                     </td></tr>\n",
       "\t<tr><td>K6901DKW-01_CMV_pp65.txt</td><td>CMV                     </td></tr>\n",
       "\t<tr><td>K6901DKW-01_Costim.txt  </td><td>Costim                  </td></tr>\n",
       "\t<tr><td>K6901DKW-01_SEB.txt     </td><td>SEB                     </td></tr>\n",
       "</tbody>\n",
       "</table>\n"
      ],
      "text/latex": [
       "\\begin{tabular}{r|ll}\n",
       " file\\_name & trt\\\\\n",
       "\\hline\n",
       "\t AMJ\\_5L\\_CMV\\_pp65.txt      & CMV                           \\\\\n",
       "\t AMJ\\_5L\\_Costim.txt        & Costim                      \\\\\n",
       "\t AMJ\\_5L\\_SEB.txt           & SEB                         \\\\\n",
       "\t B6901GFJ-08\\_CMV\\_pp65.txt & CMV                         \\\\\n",
       "\t B6901GFJ-08\\_Costim.txt   & Costim                    \\\\\n",
       "\t B6901GFJ-08\\_SEB.txt      & SEB                       \\\\\n",
       "\t E6901F0T-07\\_CMV\\_pp65.txt & CMV                         \\\\\n",
       "\t E6901F0T-07\\_Costim.txt   & Costim                    \\\\\n",
       "\t E6901F0T-07\\_SEB.txt      & SEB                       \\\\\n",
       "\t E6901FYZ-01\\_CMV\\_pp65.txt & CMV                         \\\\\n",
       "\t E6901FYZ-01\\_Costim.txt   & Costim                    \\\\\n",
       "\t E6901FYZ-01\\_SEB.txt      & SEB                       \\\\\n",
       "\t F69018CN-01\\_CMV\\_pp65.txt & CMV                         \\\\\n",
       "\t F69018CN-01\\_Costim.txt   & Costim                    \\\\\n",
       "\t F69018CN-01\\_SEB.txt      & SEB                       \\\\\n",
       "\t F6901DJK-01\\_CMV\\_pp65.txt & CMV                         \\\\\n",
       "\t F6901DJK-01\\_Costim.txt   & Costim                    \\\\\n",
       "\t F6901DJK-01\\_SEB.txt      & SEB                       \\\\\n",
       "\t G6901B3H-01\\_CMV\\_pp65.txt & CMV                         \\\\\n",
       "\t G6901B3H-01\\_Costim.txt   & Costim                    \\\\\n",
       "\t G6901B3H-01\\_SEB.txt      & SEB                       \\\\\n",
       "\t J6901CDB-01\\_CMV\\_pp65.txt & CMV                         \\\\\n",
       "\t J6901CDB-01\\_Costim.txt   & Costim                    \\\\\n",
       "\t J6901CDB-01\\_SEB.txt      & SEB                       \\\\\n",
       "\t J6901HJ1-06\\_CMV\\_pp65.txt & CMV                         \\\\\n",
       "\t J6901HJ1-06\\_Costim.txt   & Costim                    \\\\\n",
       "\t J6901HJ1-06\\_SEB.txt      & SEB                       \\\\\n",
       "\t K690194C-01\\_CMV\\_pp65.txt & CMV                         \\\\\n",
       "\t K690194C-01\\_Costim.txt   & Costim                    \\\\\n",
       "\t K690194C-01\\_SEB.txt      & SEB                       \\\\\n",
       "\t K6901DKW-01\\_CMV\\_pp65.txt & CMV                         \\\\\n",
       "\t K6901DKW-01\\_Costim.txt   & Costim                    \\\\\n",
       "\t K6901DKW-01\\_SEB.txt      & SEB                       \\\\\n",
       "\\end{tabular}\n"
      ],
      "text/markdown": [
       "\n",
       "file_name | trt | \n",
       "|---|---|---|---|---|---|---|---|---|---|---|---|---|---|---|---|---|---|---|---|---|---|---|---|---|---|---|---|---|---|---|---|---|\n",
       "| AMJ_5L_CMV_pp65.txt      | CMV                      | \n",
       "| AMJ_5L_Costim.txt        | Costim                   | \n",
       "| AMJ_5L_SEB.txt           | SEB                      | \n",
       "| B6901GFJ-08_CMV_pp65.txt | CMV                      | \n",
       "| B6901GFJ-08_Costim.txt   | Costim                   | \n",
       "| B6901GFJ-08_SEB.txt      | SEB                      | \n",
       "| E6901F0T-07_CMV_pp65.txt | CMV                      | \n",
       "| E6901F0T-07_Costim.txt   | Costim                   | \n",
       "| E6901F0T-07_SEB.txt      | SEB                      | \n",
       "| E6901FYZ-01_CMV_pp65.txt | CMV                      | \n",
       "| E6901FYZ-01_Costim.txt   | Costim                   | \n",
       "| E6901FYZ-01_SEB.txt      | SEB                      | \n",
       "| F69018CN-01_CMV_pp65.txt | CMV                      | \n",
       "| F69018CN-01_Costim.txt   | Costim                   | \n",
       "| F69018CN-01_SEB.txt      | SEB                      | \n",
       "| F6901DJK-01_CMV_pp65.txt | CMV                      | \n",
       "| F6901DJK-01_Costim.txt   | Costim                   | \n",
       "| F6901DJK-01_SEB.txt      | SEB                      | \n",
       "| G6901B3H-01_CMV_pp65.txt | CMV                      | \n",
       "| G6901B3H-01_Costim.txt   | Costim                   | \n",
       "| G6901B3H-01_SEB.txt      | SEB                      | \n",
       "| J6901CDB-01_CMV_pp65.txt | CMV                      | \n",
       "| J6901CDB-01_Costim.txt   | Costim                   | \n",
       "| J6901CDB-01_SEB.txt      | SEB                      | \n",
       "| J6901HJ1-06_CMV_pp65.txt | CMV                      | \n",
       "| J6901HJ1-06_Costim.txt   | Costim                   | \n",
       "| J6901HJ1-06_SEB.txt      | SEB                      | \n",
       "| K690194C-01_CMV_pp65.txt | CMV                      | \n",
       "| K690194C-01_Costim.txt   | Costim                   | \n",
       "| K690194C-01_SEB.txt      | SEB                      | \n",
       "| K6901DKW-01_CMV_pp65.txt | CMV                      | \n",
       "| K6901DKW-01_Costim.txt   | Costim                   | \n",
       "| K6901DKW-01_SEB.txt      | SEB                      | \n",
       "\n",
       "\n"
      ],
      "text/plain": [
       "   file_name                trt   \n",
       "1  AMJ_5L_CMV_pp65.txt      CMV   \n",
       "2  AMJ_5L_Costim.txt        Costim\n",
       "3  AMJ_5L_SEB.txt           SEB   \n",
       "4  B6901GFJ-08_CMV_pp65.txt CMV   \n",
       "5  B6901GFJ-08_Costim.txt   Costim\n",
       "6  B6901GFJ-08_SEB.txt      SEB   \n",
       "7  E6901F0T-07_CMV_pp65.txt CMV   \n",
       "8  E6901F0T-07_Costim.txt   Costim\n",
       "9  E6901F0T-07_SEB.txt      SEB   \n",
       "10 E6901FYZ-01_CMV_pp65.txt CMV   \n",
       "11 E6901FYZ-01_Costim.txt   Costim\n",
       "12 E6901FYZ-01_SEB.txt      SEB   \n",
       "13 F69018CN-01_CMV_pp65.txt CMV   \n",
       "14 F69018CN-01_Costim.txt   Costim\n",
       "15 F69018CN-01_SEB.txt      SEB   \n",
       "16 F6901DJK-01_CMV_pp65.txt CMV   \n",
       "17 F6901DJK-01_Costim.txt   Costim\n",
       "18 F6901DJK-01_SEB.txt      SEB   \n",
       "19 G6901B3H-01_CMV_pp65.txt CMV   \n",
       "20 G6901B3H-01_Costim.txt   Costim\n",
       "21 G6901B3H-01_SEB.txt      SEB   \n",
       "22 J6901CDB-01_CMV_pp65.txt CMV   \n",
       "23 J6901CDB-01_Costim.txt   Costim\n",
       "24 J6901CDB-01_SEB.txt      SEB   \n",
       "25 J6901HJ1-06_CMV_pp65.txt CMV   \n",
       "26 J6901HJ1-06_Costim.txt   Costim\n",
       "27 J6901HJ1-06_SEB.txt      SEB   \n",
       "28 K690194C-01_CMV_pp65.txt CMV   \n",
       "29 K690194C-01_Costim.txt   Costim\n",
       "30 K690194C-01_SEB.txt      SEB   \n",
       "31 K6901DKW-01_CMV_pp65.txt CMV   \n",
       "32 K6901DKW-01_Costim.txt   Costim\n",
       "33 K6901DKW-01_SEB.txt      SEB   "
      ]
     },
     "metadata": {},
     "output_type": "display_data"
    }
   ],
   "source": [
    "dat_pheno"
   ]
  },
  {
   "cell_type": "markdown",
   "metadata": {},
   "source": [
    "# Markers"
   ]
  },
  {
   "cell_type": "code",
   "execution_count": 59,
   "metadata": {},
   "outputs": [
    {
     "data": {
      "text/html": [
       "<table>\n",
       "<thead><tr><th scope=col>type</th><th scope=col>marker</th></tr></thead>\n",
       "<tbody>\n",
       "\t<tr><td>Scatter         </td><td>FSC-H           </td></tr>\n",
       "\t<tr><td>Scatter         </td><td>FSC-W           </td></tr>\n",
       "\t<tr><td>Scatter         </td><td>FSC-A           </td></tr>\n",
       "\t<tr><td>Basic           </td><td>CD14 CD19 vAmine</td></tr>\n",
       "\t<tr><td>Basic           </td><td>CD3 AmCyan      </td></tr>\n",
       "\t<tr><td>Basic           </td><td>CD4 PerCP Cy55  </td></tr>\n",
       "\t<tr><td>Basic           </td><td>CD8 APC Cy7     </td></tr>\n",
       "\t<tr><td>Maturational    </td><td>CD45RO ECD      </td></tr>\n",
       "\t<tr><td>Maturational    </td><td>CD27 APC        </td></tr>\n",
       "\t<tr><td>Maturational    </td><td>CD57 FITC       </td></tr>\n",
       "\t<tr><td>Functional      </td><td>TNFa A700       </td></tr>\n",
       "\t<tr><td>Functional      </td><td>IL 2 PE         </td></tr>\n",
       "\t<tr><td>Functional      </td><td>IFNg PE Cy7     </td></tr>\n",
       "\t<tr><td>Functional      </td><td>CD107 PE Cy5    </td></tr>\n",
       "</tbody>\n",
       "</table>\n"
      ],
      "text/latex": [
       "\\begin{tabular}{r|ll}\n",
       " type & marker\\\\\n",
       "\\hline\n",
       "\t Scatter          & FSC-H           \\\\\n",
       "\t Scatter          & FSC-W           \\\\\n",
       "\t Scatter          & FSC-A           \\\\\n",
       "\t Basic            & CD14 CD19 vAmine\\\\\n",
       "\t Basic            & CD3 AmCyan      \\\\\n",
       "\t Basic            & CD4 PerCP Cy55  \\\\\n",
       "\t Basic            & CD8 APC Cy7     \\\\\n",
       "\t Maturational     & CD45RO ECD      \\\\\n",
       "\t Maturational     & CD27 APC        \\\\\n",
       "\t Maturational     & CD57 FITC       \\\\\n",
       "\t Functional       & TNFa A700       \\\\\n",
       "\t Functional       & IL 2 PE         \\\\\n",
       "\t Functional       & IFNg PE Cy7     \\\\\n",
       "\t Functional       & CD107 PE Cy5    \\\\\n",
       "\\end{tabular}\n"
      ],
      "text/markdown": [
       "\n",
       "type | marker | \n",
       "|---|---|---|---|---|---|---|---|---|---|---|---|---|---|\n",
       "| Scatter          | FSC-H            | \n",
       "| Scatter          | FSC-W            | \n",
       "| Scatter          | FSC-A            | \n",
       "| Basic            | CD14 CD19 vAmine | \n",
       "| Basic            | CD3 AmCyan       | \n",
       "| Basic            | CD4 PerCP Cy55   | \n",
       "| Basic            | CD8 APC Cy7      | \n",
       "| Maturational     | CD45RO ECD       | \n",
       "| Maturational     | CD27 APC         | \n",
       "| Maturational     | CD57 FITC        | \n",
       "| Functional       | TNFa A700        | \n",
       "| Functional       | IL 2 PE          | \n",
       "| Functional       | IFNg PE Cy7      | \n",
       "| Functional       | CD107 PE Cy5     | \n",
       "\n",
       "\n"
      ],
      "text/plain": [
       "   type         marker          \n",
       "1  Scatter      FSC-H           \n",
       "2  Scatter      FSC-W           \n",
       "3  Scatter      FSC-A           \n",
       "4  Basic        CD14 CD19 vAmine\n",
       "5  Basic        CD3 AmCyan      \n",
       "6  Basic        CD4 PerCP Cy55  \n",
       "7  Basic        CD8 APC Cy7     \n",
       "8  Maturational CD45RO ECD      \n",
       "9  Maturational CD27 APC        \n",
       "10 Maturational CD57 FITC       \n",
       "11 Functional   TNFa A700       \n",
       "12 Functional   IL 2 PE         \n",
       "13 Functional   IFNg PE Cy7     \n",
       "14 Functional   CD107 PE Cy5    "
      ]
     },
     "metadata": {},
     "output_type": "display_data"
    }
   ],
   "source": [
    "dat_markers = read_csv(\n",
    "    file.path(DATADIR, \"markers.txt\"), \n",
    "    col_types = c(col_character(), col_character()),\n",
    "    col_names = FALSE)\n",
    "colnames(dat_markers) = c(\"type\", \"marker\")\n",
    "\n",
    "dat_markers"
   ]
  },
  {
   "cell_type": "markdown",
   "metadata": {},
   "source": [
    "# Flow data"
   ]
  },
  {
   "cell_type": "code",
   "execution_count": 36,
   "metadata": {},
   "outputs": [
    {
     "data": {
      "text/html": [
       "<ol class=list-inline>\n",
       "\t<li>'AMJ_5L_CMV_pp65.txt'</li>\n",
       "\t<li>'AMJ_5L_Costim.txt'</li>\n",
       "\t<li>'AMJ_5L_SEB.txt'</li>\n",
       "\t<li>'B6901GFJ-08_CMV_pp65.txt'</li>\n",
       "\t<li>'B6901GFJ-08_Costim.txt'</li>\n",
       "\t<li>'B6901GFJ-08_SEB.txt'</li>\n",
       "\t<li>'E6901F0T-07_CMV_pp65.txt'</li>\n",
       "\t<li>'E6901F0T-07_Costim.txt'</li>\n",
       "\t<li>'E6901F0T-07_SEB.txt'</li>\n",
       "\t<li>'E6901FYZ-01_CMV_pp65.txt'</li>\n",
       "\t<li>'E6901FYZ-01_Costim.txt'</li>\n",
       "\t<li>'E6901FYZ-01_SEB.txt'</li>\n",
       "\t<li>'F69018CN-01_CMV_pp65.txt'</li>\n",
       "\t<li>'F69018CN-01_Costim.txt'</li>\n",
       "\t<li>'F69018CN-01_SEB.txt'</li>\n",
       "\t<li>'F6901DJK-01_CMV_pp65.txt'</li>\n",
       "\t<li>'F6901DJK-01_Costim.txt'</li>\n",
       "\t<li>'F6901DJK-01_SEB.txt'</li>\n",
       "\t<li>'G6901B3H-01_CMV_pp65.txt'</li>\n",
       "\t<li>'G6901B3H-01_Costim.txt'</li>\n",
       "\t<li>'G6901B3H-01_SEB.txt'</li>\n",
       "\t<li>'J6901CDB-01_CMV_pp65.txt'</li>\n",
       "\t<li>'J6901CDB-01_Costim.txt'</li>\n",
       "\t<li>'J6901CDB-01_SEB.txt'</li>\n",
       "\t<li>'J6901HJ1-06_CMV_pp65.txt'</li>\n",
       "\t<li>'J6901HJ1-06_Costim.txt'</li>\n",
       "\t<li>'J6901HJ1-06_SEB.txt'</li>\n",
       "\t<li>'K690194C-01_CMV_pp65.txt'</li>\n",
       "\t<li>'K690194C-01_Costim.txt'</li>\n",
       "\t<li>'K690194C-01_SEB.txt'</li>\n",
       "\t<li>'K6901DKW-01_CMV_pp65.txt'</li>\n",
       "\t<li>'K6901DKW-01_Costim.txt'</li>\n",
       "\t<li>'K6901DKW-01_SEB.txt'</li>\n",
       "\t<li>'markers.txt'</li>\n",
       "</ol>\n"
      ],
      "text/latex": [
       "\\begin{enumerate*}\n",
       "\\item 'AMJ\\_5L\\_CMV\\_pp65.txt'\n",
       "\\item 'AMJ\\_5L\\_Costim.txt'\n",
       "\\item 'AMJ\\_5L\\_SEB.txt'\n",
       "\\item 'B6901GFJ-08\\_CMV\\_pp65.txt'\n",
       "\\item 'B6901GFJ-08\\_Costim.txt'\n",
       "\\item 'B6901GFJ-08\\_SEB.txt'\n",
       "\\item 'E6901F0T-07\\_CMV\\_pp65.txt'\n",
       "\\item 'E6901F0T-07\\_Costim.txt'\n",
       "\\item 'E6901F0T-07\\_SEB.txt'\n",
       "\\item 'E6901FYZ-01\\_CMV\\_pp65.txt'\n",
       "\\item 'E6901FYZ-01\\_Costim.txt'\n",
       "\\item 'E6901FYZ-01\\_SEB.txt'\n",
       "\\item 'F69018CN-01\\_CMV\\_pp65.txt'\n",
       "\\item 'F69018CN-01\\_Costim.txt'\n",
       "\\item 'F69018CN-01\\_SEB.txt'\n",
       "\\item 'F6901DJK-01\\_CMV\\_pp65.txt'\n",
       "\\item 'F6901DJK-01\\_Costim.txt'\n",
       "\\item 'F6901DJK-01\\_SEB.txt'\n",
       "\\item 'G6901B3H-01\\_CMV\\_pp65.txt'\n",
       "\\item 'G6901B3H-01\\_Costim.txt'\n",
       "\\item 'G6901B3H-01\\_SEB.txt'\n",
       "\\item 'J6901CDB-01\\_CMV\\_pp65.txt'\n",
       "\\item 'J6901CDB-01\\_Costim.txt'\n",
       "\\item 'J6901CDB-01\\_SEB.txt'\n",
       "\\item 'J6901HJ1-06\\_CMV\\_pp65.txt'\n",
       "\\item 'J6901HJ1-06\\_Costim.txt'\n",
       "\\item 'J6901HJ1-06\\_SEB.txt'\n",
       "\\item 'K690194C-01\\_CMV\\_pp65.txt'\n",
       "\\item 'K690194C-01\\_Costim.txt'\n",
       "\\item 'K690194C-01\\_SEB.txt'\n",
       "\\item 'K6901DKW-01\\_CMV\\_pp65.txt'\n",
       "\\item 'K6901DKW-01\\_Costim.txt'\n",
       "\\item 'K6901DKW-01\\_SEB.txt'\n",
       "\\item 'markers.txt'\n",
       "\\end{enumerate*}\n"
      ],
      "text/markdown": [
       "1. 'AMJ_5L_CMV_pp65.txt'\n",
       "2. 'AMJ_5L_Costim.txt'\n",
       "3. 'AMJ_5L_SEB.txt'\n",
       "4. 'B6901GFJ-08_CMV_pp65.txt'\n",
       "5. 'B6901GFJ-08_Costim.txt'\n",
       "6. 'B6901GFJ-08_SEB.txt'\n",
       "7. 'E6901F0T-07_CMV_pp65.txt'\n",
       "8. 'E6901F0T-07_Costim.txt'\n",
       "9. 'E6901F0T-07_SEB.txt'\n",
       "10. 'E6901FYZ-01_CMV_pp65.txt'\n",
       "11. 'E6901FYZ-01_Costim.txt'\n",
       "12. 'E6901FYZ-01_SEB.txt'\n",
       "13. 'F69018CN-01_CMV_pp65.txt'\n",
       "14. 'F69018CN-01_Costim.txt'\n",
       "15. 'F69018CN-01_SEB.txt'\n",
       "16. 'F6901DJK-01_CMV_pp65.txt'\n",
       "17. 'F6901DJK-01_Costim.txt'\n",
       "18. 'F6901DJK-01_SEB.txt'\n",
       "19. 'G6901B3H-01_CMV_pp65.txt'\n",
       "20. 'G6901B3H-01_Costim.txt'\n",
       "21. 'G6901B3H-01_SEB.txt'\n",
       "22. 'J6901CDB-01_CMV_pp65.txt'\n",
       "23. 'J6901CDB-01_Costim.txt'\n",
       "24. 'J6901CDB-01_SEB.txt'\n",
       "25. 'J6901HJ1-06_CMV_pp65.txt'\n",
       "26. 'J6901HJ1-06_Costim.txt'\n",
       "27. 'J6901HJ1-06_SEB.txt'\n",
       "28. 'K690194C-01_CMV_pp65.txt'\n",
       "29. 'K690194C-01_Costim.txt'\n",
       "30. 'K690194C-01_SEB.txt'\n",
       "31. 'K6901DKW-01_CMV_pp65.txt'\n",
       "32. 'K6901DKW-01_Costim.txt'\n",
       "33. 'K6901DKW-01_SEB.txt'\n",
       "34. 'markers.txt'\n",
       "\n",
       "\n"
      ],
      "text/plain": [
       " [1] \"AMJ_5L_CMV_pp65.txt\"      \"AMJ_5L_Costim.txt\"       \n",
       " [3] \"AMJ_5L_SEB.txt\"           \"B6901GFJ-08_CMV_pp65.txt\"\n",
       " [5] \"B6901GFJ-08_Costim.txt\"   \"B6901GFJ-08_SEB.txt\"     \n",
       " [7] \"E6901F0T-07_CMV_pp65.txt\" \"E6901F0T-07_Costim.txt\"  \n",
       " [9] \"E6901F0T-07_SEB.txt\"      \"E6901FYZ-01_CMV_pp65.txt\"\n",
       "[11] \"E6901FYZ-01_Costim.txt\"   \"E6901FYZ-01_SEB.txt\"     \n",
       "[13] \"F69018CN-01_CMV_pp65.txt\" \"F69018CN-01_Costim.txt\"  \n",
       "[15] \"F69018CN-01_SEB.txt\"      \"F6901DJK-01_CMV_pp65.txt\"\n",
       "[17] \"F6901DJK-01_Costim.txt\"   \"F6901DJK-01_SEB.txt\"     \n",
       "[19] \"G6901B3H-01_CMV_pp65.txt\" \"G6901B3H-01_Costim.txt\"  \n",
       "[21] \"G6901B3H-01_SEB.txt\"      \"J6901CDB-01_CMV_pp65.txt\"\n",
       "[23] \"J6901CDB-01_Costim.txt\"   \"J6901CDB-01_SEB.txt\"     \n",
       "[25] \"J6901HJ1-06_CMV_pp65.txt\" \"J6901HJ1-06_Costim.txt\"  \n",
       "[27] \"J6901HJ1-06_SEB.txt\"      \"K690194C-01_CMV_pp65.txt\"\n",
       "[29] \"K690194C-01_Costim.txt\"   \"K690194C-01_SEB.txt\"     \n",
       "[31] \"K6901DKW-01_CMV_pp65.txt\" \"K6901DKW-01_Costim.txt\"  \n",
       "[33] \"K6901DKW-01_SEB.txt\"      \"markers.txt\"             "
      ]
     },
     "metadata": {},
     "output_type": "display_data"
    }
   ],
   "source": [
    "files"
   ]
  },
  {
   "cell_type": "code",
   "execution_count": 40,
   "metadata": {},
   "outputs": [],
   "source": [
    "### column types\n",
    "coltypes <- list(\n",
    "    col_double(), col_double(), col_double(), col_double(),\n",
    "    col_double(), col_double(), col_double(), col_double(),\n",
    "    col_double(), col_double(), col_double(), col_double(),\n",
    "    col_double(), col_double())\n",
    "\n",
    "### read in all data into a list\n",
    "dat_raw = foreach(file = files) %do% {\n",
    "    read_delim(\n",
    "        file.path(DATADIR, file), \n",
    "        delim = \" \", \n",
    "        col_names = FALSE,\n",
    "        col_types = coltypes)\n",
    "}"
   ]
  },
  {
   "cell_type": "code",
   "execution_count": 42,
   "metadata": {},
   "outputs": [
    {
     "data": {
      "text/html": [
       "33"
      ],
      "text/latex": [
       "33"
      ],
      "text/markdown": [
       "33"
      ],
      "text/plain": [
       "[1] 33"
      ]
     },
     "metadata": {},
     "output_type": "display_data"
    }
   ],
   "source": [
    "length(files)"
   ]
  },
  {
   "cell_type": "code",
   "execution_count": 41,
   "metadata": {},
   "outputs": [
    {
     "data": {
      "text/html": [
       "33"
      ],
      "text/latex": [
       "33"
      ],
      "text/markdown": [
       "33"
      ],
      "text/plain": [
       "[1] 33"
      ]
     },
     "metadata": {},
     "output_type": "display_data"
    }
   ],
   "source": [
    "length(dat_raw)"
   ]
  },
  {
   "cell_type": "code",
   "execution_count": 43,
   "metadata": {},
   "outputs": [],
   "source": [
    "names(dat_raw) = files"
   ]
  },
  {
   "cell_type": "code",
   "execution_count": 60,
   "metadata": {},
   "outputs": [],
   "source": [
    "outfile = file.path(OUTDIR, \"EQAPOL_normal.RData\")\n",
    "save(dat_raw, dat_markers, dat_pheno, file = outfile)"
   ]
  }
 ],
 "metadata": {
  "kernelspec": {
   "display_name": "R",
   "language": "R",
   "name": "r"
  },
  "language_info": {
   "codemirror_mode": "r",
   "file_extension": ".r",
   "mimetype": "text/x-r-source",
   "name": "R",
   "pygments_lexer": "r",
   "version": "3.4.4"
  }
 },
 "nbformat": 4,
 "nbformat_minor": 2
}
